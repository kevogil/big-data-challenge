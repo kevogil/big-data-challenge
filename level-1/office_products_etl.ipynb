{
  "cells": [
    {
      "cell_type": "code",
      "execution_count": 1,
      "metadata": {
        "colab": {
          "base_uri": "https://localhost:8080/"
        },
        "id": "ems5tv-LUD61",
        "outputId": "ec5241f3-1efe-463e-e6fa-d559563e4127"
      },
      "outputs": [
        {
          "name": "stdout",
          "output_type": "stream",
          "text": [
            "Get:1 https://cloud.r-project.org/bin/linux/ubuntu bionic-cran40/ InRelease [3,626 B]\n",
            "Ign:2 https://developer.download.nvidia.com/compute/cuda/repos/ubuntu1804/x86_64  InRelease\n",
            "Get:3 http://security.ubuntu.com/ubuntu bionic-security InRelease [88.7 kB]\n",
            "Get:4 http://ppa.launchpad.net/c2d4u.team/c2d4u4.0+/ubuntu bionic InRelease [15.9 kB]\n",
            "Get:5 https://cloud.r-project.org/bin/linux/ubuntu bionic-cran40/ Packages [73.9 kB]\n",
            "Hit:6 http://archive.ubuntu.com/ubuntu bionic InRelease\n",
            "Get:7 http://archive.ubuntu.com/ubuntu bionic-updates InRelease [88.7 kB]\n",
            "Ign:8 https://developer.download.nvidia.com/compute/machine-learning/repos/ubuntu1804/x86_64  InRelease\n",
            "Hit:9 https://developer.download.nvidia.com/compute/cuda/repos/ubuntu1804/x86_64  Release\n",
            "Hit:10 https://developer.download.nvidia.com/compute/machine-learning/repos/ubuntu1804/x86_64  Release\n",
            "Hit:11 http://ppa.launchpad.net/cran/libgit2/ubuntu bionic InRelease\n",
            "Get:12 http://ppa.launchpad.net/deadsnakes/ppa/ubuntu bionic InRelease [15.9 kB]\n",
            "Get:13 http://archive.ubuntu.com/ubuntu bionic-backports InRelease [74.6 kB]\n",
            "Get:14 http://security.ubuntu.com/ubuntu bionic-security/main amd64 Packages [2,461 kB]\n",
            "Hit:16 http://ppa.launchpad.net/graphics-drivers/ppa/ubuntu bionic InRelease\n",
            "Get:18 http://ppa.launchpad.net/c2d4u.team/c2d4u4.0+/ubuntu bionic/main Sources [1,820 kB]\n",
            "Get:19 http://security.ubuntu.com/ubuntu bionic-security/universe amd64 Packages [1,450 kB]\n",
            "Get:20 http://archive.ubuntu.com/ubuntu bionic-updates/main amd64 Packages [2,898 kB]\n",
            "Get:21 http://security.ubuntu.com/ubuntu bionic-security/restricted amd64 Packages [691 kB]\n",
            "Get:22 http://archive.ubuntu.com/ubuntu bionic-updates/universe amd64 Packages [2,228 kB]\n",
            "Get:23 http://ppa.launchpad.net/c2d4u.team/c2d4u4.0+/ubuntu bionic/main amd64 Packages [933 kB]\n",
            "Get:24 http://ppa.launchpad.net/deadsnakes/ppa/ubuntu bionic/main amd64 Packages [45.9 kB]\n",
            "Fetched 12.9 MB in 7s (1,805 kB/s)\n",
            "Reading package lists... Done\n"
          ]
        }
      ],
      "source": [
        "import os\n",
        "# Find the latest version of spark 3.0  from http://www.apache.org/dist/spark/ and enter as the spark version\n",
        "spark_version = 'spark-3.2.0'\n",
        "os.environ['SPARK_VERSION']=spark_version\n",
        "\n",
        "# Install Spark and Java\n",
        "!apt-get update\n",
        "!apt-get install openjdk-8-jdk-headless -qq > /dev/null\n",
        "!wget -q http://www.apache.org/dist/spark/$SPARK_VERSION/$SPARK_VERSION-bin-hadoop2.7.tgz\n",
        "!tar xf $SPARK_VERSION-bin-hadoop2.7.tgz\n",
        "!pip install -q findspark\n",
        "\n",
        "# Set Environment Variables\n",
        "os.environ[\"JAVA_HOME\"] = \"/usr/lib/jvm/java-8-openjdk-amd64\"\n",
        "os.environ[\"SPARK_HOME\"] = f\"/content/{spark_version}-bin-hadoop2.7\"\n",
        "\n",
        "# Start a SparkSession\n",
        "import findspark\n",
        "findspark.init()"
      ]
    },
    {
      "cell_type": "code",
      "execution_count": 2,
      "metadata": {
        "colab": {
          "base_uri": "https://localhost:8080/"
        },
        "id": "LGRBvfI5QLtz",
        "outputId": "8ebe600b-1bc2-430f-95c2-eea5da302695"
      },
      "outputs": [
        {
          "name": "stdout",
          "output_type": "stream",
          "text": [
            "--2021-12-13 02:35:03--  https://jdbc.postgresql.org/download/postgresql-42.2.9.jar\n",
            "Resolving jdbc.postgresql.org (jdbc.postgresql.org)... 72.32.157.228, 2001:4800:3e1:1::228\n",
            "Connecting to jdbc.postgresql.org (jdbc.postgresql.org)|72.32.157.228|:443... connected.\n",
            "HTTP request sent, awaiting response... 200 OK\n",
            "Length: 914037 (893K) [application/java-archive]\n",
            "Saving to: ‘postgresql-42.2.9.jar’\n",
            "\n",
            "postgresql-42.2.9.j 100%[===================>] 892.61K  1.23MB/s    in 0.7s    \n",
            "\n",
            "2021-12-13 02:35:05 (1.23 MB/s) - ‘postgresql-42.2.9.jar’ saved [914037/914037]\n",
            "\n"
          ]
        }
      ],
      "source": [
        "!wget https://jdbc.postgresql.org/download/postgresql-42.2.9.jar"
      ]
    },
    {
      "cell_type": "code",
      "execution_count": 3,
      "metadata": {
        "id": "ftxDYnBRuPWq"
      },
      "outputs": [],
      "source": [
        "# Start Spark session\n",
        "from pyspark.sql import SparkSession\n",
        "spark = SparkSession.builder.appName(\"Hashing\").config(\"spark.driver.extraClassPath\",\"/content/postgresql-42.2.9.jar\").getOrCreate()"
      ]
    },
    {
      "cell_type": "code",
      "execution_count": 4,
      "metadata": {
        "id": "PKiVMXoouRrE"
      },
      "outputs": [],
      "source": [
        "from pyspark.ml.feature import HashingTF, IDF, Tokenizer, StopWordsRemover"
      ]
    },
    {
      "cell_type": "code",
      "execution_count": 5,
      "metadata": {
        "colab": {
          "base_uri": "https://localhost:8080/"
        },
        "id": "a0rtr551uT34",
        "outputId": "63a1d5da-f7f0-4945-f0dc-bbfd87d0f4e5"
      },
      "outputs": [
        {
          "name": "stdout",
          "output_type": "stream",
          "text": [
            "+-----------+-----------+--------------+----------+--------------+--------------------+----------------+-----------+-------------+-----------+----+-----------------+--------------------+--------------------+-----------+\n",
            "|marketplace|customer_id|     review_id|product_id|product_parent|       product_title|product_category|star_rating|helpful_votes|total_votes|vine|verified_purchase|     review_headline|         review_body|review_date|\n",
            "+-----------+-----------+--------------+----------+--------------+--------------------+----------------+-----------+-------------+-----------+----+-----------------+--------------------+--------------------+-----------+\n",
            "|         US|   43081963|R18RVCKGH1SSI9|B001BM2MAC|     307809868|Scotch Cushion Wr...| Office Products|          5|            0|          0|   N|                Y|          Five Stars|      Great product.| 2015-08-31|\n",
            "|         US|   10951564|R3L4L6LW1PUOFY|B00DZYEXPQ|      75004341|Dust-Off Compress...| Office Products|          5|            0|          1|   N|                Y|Phffffffft, Phfff...|What's to say abo...| 2015-08-31|\n",
            "|         US|   21143145|R2J8AWXWTDX2TF|B00RTMUHDW|     529689027|Amram Tagger Stan...| Office Products|          5|            0|          0|   N|                Y|but I am sure I w...|Haven't used yet,...| 2015-08-31|\n",
            "|         US|   52782374|R1PR37BR7G3M6A|B00D7H8XB6|     868449945|AmazonBasics 12-S...| Office Products|          1|            2|          3|   N|                Y|and the shredder ...|Although this was...| 2015-08-31|\n",
            "|         US|   24045652|R3BDDDZMZBZDPU|B001XCWP34|      33521401|Derwent Colored P...| Office Products|          4|            0|          0|   N|                Y|          Four Stars|Gorgeous colors a...| 2015-08-31|\n",
            "|         US|   21751234| R8T6MO75ND212|B004J2NBCO|     214932869|Quartet Magnetic ...| Office Products|          5|            0|          0|   N|                Y|          Five Stars|Perfect for plann...| 2015-08-31|\n",
            "|         US|    9109358|R2YWMQT2V11XYZ|B00MOPAG8K|     863351797|KITLEX40X2592UNV2...| Office Products|          5|            0|          0|   N|                N|          Five Stars|Gold plated fuser...| 2015-08-31|\n",
            "|         US|    9967215|R1V2HYL6OI9V39|B003AHIK7U|     383470576|Bible Dry Highlig...| Office Products|          5|            6|          6|   N|                Y|Won't bleed throu...|I have used these...| 2015-08-31|\n",
            "|         US|   11234247|R3BLQBKUNXGFS4|B006TKH2RO|     999128878|Parker Ingenuity ...| Office Products|          5|            0|          0|   N|                Y|           Nice pen!|Heavy pen that wr...| 2015-08-31|\n",
            "|         US|   12731488|R17MOWJCAR9Y8Q|B00W61M9K0|     622066861| RFID Card Protector| Office Products|          5|            0|          0|   N|                Y| Credit card sleeves|Not sure if they ...| 2015-08-31|\n",
            "|         US|   49861762|R11EPG1GHOXMGB|B00BXOGI3A|     688569009|The Original Stan...| Office Products|          4|            0|          0|   N|                N|          Four Stars|Great product for...| 2015-08-31|\n",
            "|         US|    1541556|R2797NKTEX5THN|B0018RHWGE|     513803406|Zebra Sparky-1 WK...| Office Products|          5|            0|          0|   N|                Y|Love these highli...|Love these highli...| 2015-08-31|\n",
            "|         US|   10579374|R2RUTMJS50E4WF|B00IA8H2OG|     201212366|E-Z Ink (TM) Comp...| Office Products|          5|            0|          0|   N|                Y|          Five Stars|Received on time,...| 2015-08-31|\n",
            "|         US|   43622307|R1FZYL1HX7O4RM|B007TOIA66|     954138793|Eric 11\" Giant Si...| Office Products|          1|            0|          0|   N|                Y|            One Star|worked about a mo...| 2015-08-31|\n",
            "|         US|   50773856|R22ENT0KU5CHPX|B00EANURCE|      43216076|Brother MFCJ450 W...| Office Products|          5|            0|          0|   N|                Y|Brothers Wireless...|I purchased this ...| 2015-08-31|\n",
            "|         US|   10165223|R2E5M7FWJC9JLE|B00T3Q0EOO|     637096152|Clarity D613 DECT...| Office Products|          5|            0|          0|   N|                Y|          Five Stars|Everything works ...| 2015-08-31|\n",
            "|         US|   14744748|R31BNW3O2Q5J3E|B00WN0N818|     710040412|Permo 50 Feet Whi...| Office Products|          5|            0|          0|   N|                Y|          Five Stars|          Thank you!| 2015-08-31|\n",
            "|         US|   37536631|R1JMQF1OOMNF49|B001GAOTSW|     696023182|Pilot G2 Retracta...| Office Products|          5|            0|          0|   N|                Y|          Five Stars|     Love these pens| 2015-08-31|\n",
            "|         US|     126687| RJH6WQDOA6CZP|B003BNY7PW|     474277918|AT&T DECT 6.0 Acc...| Office Products|          5|            0|          0|   N|                Y|          Five Stars|The product is ev...| 2015-08-31|\n",
            "|         US|   31130095|R2EVL0Z5JVV86X|B00092RJX0|     887474295|Pilot G2 Retracta...| Office Products|          5|            0|          0|   N|                Y|          Five Stars|           Great buy| 2015-08-31|\n",
            "+-----------+-----------+--------------+----------+--------------+--------------------+----------------+-----------+-------------+-----------+----+-----------------+--------------------+--------------------+-----------+\n",
            "only showing top 20 rows\n",
            "\n"
          ]
        }
      ],
      "source": [
        "# Read in data from S3 Buckets\n",
        "from pyspark import SparkFiles\n",
        "dataset = \"amazon_reviews_us_Office_Products_v1_00.tsv.gz\"\n",
        "url = \"https://s3.amazonaws.com/amazon-reviews-pds/tsv/\" + dataset\n",
        "spark.sparkContext.addFile(url)\n",
        "office_products_df = spark.read.csv(SparkFiles.get(dataset), sep=\"\\t\", header=True, inferSchema=True)\n",
        "\n",
        "# Show DataFrame\n",
        "office_products_df.show()"
      ]
    },
    {
      "cell_type": "code",
      "execution_count": 6,
      "metadata": {
        "colab": {
          "base_uri": "https://localhost:8080/"
        },
        "id": "t3BtIKqG2AfC",
        "outputId": "c6c51ef9-48b0-462e-d8a9-e9e95bffee14"
      },
      "outputs": [
        {
          "name": "stdout",
          "output_type": "stream",
          "text": [
            "Number of records: 2642434\n"
          ]
        }
      ],
      "source": [
        "# Count the number of records (rows) in the dataset\n",
        "print(\"Number of records: \" + str(office_products_df.count()))"
      ]
    },
    {
      "cell_type": "code",
      "execution_count": 7,
      "metadata": {
        "colab": {
          "base_uri": "https://localhost:8080/"
        },
        "id": "J3IOg7FJ3oFw",
        "outputId": "baf8dd99-6b40-4fab-f8a3-cff69f9c4dd0"
      },
      "outputs": [
        {
          "name": "stdout",
          "output_type": "stream",
          "text": [
            "+--------------+-----------+----------+--------------+-----------+\n",
            "|     review_id|customer_id|product_id|product_parent|review_date|\n",
            "+--------------+-----------+----------+--------------+-----------+\n",
            "|R18RVCKGH1SSI9|   43081963|B001BM2MAC|     307809868| 2015-01-31|\n",
            "|R3L4L6LW1PUOFY|   10951564|B00DZYEXPQ|      75004341| 2015-01-31|\n",
            "|R2J8AWXWTDX2TF|   21143145|B00RTMUHDW|     529689027| 2015-01-31|\n",
            "|R1PR37BR7G3M6A|   52782374|B00D7H8XB6|     868449945| 2015-01-31|\n",
            "|R3BDDDZMZBZDPU|   24045652|B001XCWP34|      33521401| 2015-01-31|\n",
            "| R8T6MO75ND212|   21751234|B004J2NBCO|     214932869| 2015-01-31|\n",
            "|R2YWMQT2V11XYZ|    9109358|B00MOPAG8K|     863351797| 2015-01-31|\n",
            "|R1V2HYL6OI9V39|    9967215|B003AHIK7U|     383470576| 2015-01-31|\n",
            "|R3BLQBKUNXGFS4|   11234247|B006TKH2RO|     999128878| 2015-01-31|\n",
            "|R17MOWJCAR9Y8Q|   12731488|B00W61M9K0|     622066861| 2015-01-31|\n",
            "|R11EPG1GHOXMGB|   49861762|B00BXOGI3A|     688569009| 2015-01-31|\n",
            "|R2797NKTEX5THN|    1541556|B0018RHWGE|     513803406| 2015-01-31|\n",
            "|R2RUTMJS50E4WF|   10579374|B00IA8H2OG|     201212366| 2015-01-31|\n",
            "|R1FZYL1HX7O4RM|   43622307|B007TOIA66|     954138793| 2015-01-31|\n",
            "|R22ENT0KU5CHPX|   50773856|B00EANURCE|      43216076| 2015-01-31|\n",
            "|R2E5M7FWJC9JLE|   10165223|B00T3Q0EOO|     637096152| 2015-01-31|\n",
            "|R31BNW3O2Q5J3E|   14744748|B00WN0N818|     710040412| 2015-01-31|\n",
            "|R1JMQF1OOMNF49|   37536631|B001GAOTSW|     696023182| 2015-01-31|\n",
            "| RJH6WQDOA6CZP|     126687|B003BNY7PW|     474277918| 2015-01-31|\n",
            "|R2EVL0Z5JVV86X|   31130095|B00092RJX0|     887474295| 2015-01-31|\n",
            "+--------------+-----------+----------+--------------+-----------+\n",
            "only showing top 20 rows\n",
            "\n"
          ]
        }
      ],
      "source": [
        "# Transform the dataset to fit the tables in the schema\n",
        "from pyspark.sql.functions import to_date\n",
        "\n",
        "review_id_table = office_products_df.select([\"review_id\", \"customer_id\", \"product_id\", \"product_parent\", to_date(\"review_date\", 'yyyy-mm-dd').alias(\"review_date\")])\n",
        "review_id_table.show()"
      ]
    },
    {
      "cell_type": "code",
      "execution_count": 16,
      "metadata": {
        "colab": {
          "base_uri": "https://localhost:8080/"
        },
        "id": "5_DAkzcB6Wtp",
        "outputId": "4f7fd4f6-413e-4722-98b0-c6fe06b19c0c"
      },
      "outputs": [
        {
          "name": "stdout",
          "output_type": "stream",
          "text": [
            "+----------+--------------------+\n",
            "|product_id|       product_title|\n",
            "+----------+--------------------+\n",
            "|0007262973|Pastels (Collins ...|\n",
            "|0113000316|123GetInk -14-pac...|\n",
            "|0136039847|Pearson MyHistory...|\n",
            "|0307382214|Happy Baby, Healt...|\n",
            "|0395742889|Webster's II New ...|\n",
            "|0439165210|Alpha Tales Learn...|\n",
            "|043928631X|Harry Potter Lent...|\n",
            "|0439394058|Scholastic SC9394...|\n",
            "|0439492092|Scholastic Teache...|\n",
            "|043949219X|Scholastic ¡Color...|\n",
            "|0439492335|Scholastic TF3078...|\n",
            "|043949284X|Scholastic Teache...|\n",
            "|0439492874|Scholastic Teache...|\n",
            "|0439492882|Scholastic Teache...|\n",
            "|0439492890|Scholastic Teache...|\n",
            "|0439492904|Scholastic Teache...|\n",
            "|0439499488|Scholastic Manusc...|\n",
            "|043949950X|Scholastic Alphab...|\n",
            "|043949964X|Scholastic Daily ...|\n",
            "|0439499798|Colors and Shapes...|\n",
            "+----------+--------------------+\n",
            "only showing top 20 rows\n",
            "\n"
          ]
        }
      ],
      "source": [
        "products = office_products_df.select([\"product_id\", \"product_title\"])\n",
        "products = products.drop_duplicates(subset=['product_id'])\n",
        "products.show()"
      ]
    },
    {
      "cell_type": "code",
      "execution_count": null,
      "metadata": {
        "colab": {
          "base_uri": "https://localhost:8080/"
        },
        "id": "PzO5rF8RAMbn",
        "outputId": "d7d98351-63e7-48de-c8ab-72fb52fc2941"
      },
      "outputs": [
        {
          "name": "stdout",
          "output_type": "stream",
          "text": [
            "+-----------+--------------+\n",
            "|customer_id|customer_count|\n",
            "+-----------+--------------+\n",
            "|   43622307|             1|\n",
            "|   33972406|             1|\n",
            "|     108460|             1|\n",
            "|   43515569|             1|\n",
            "|     132406|             1|\n",
            "|   42560427|             1|\n",
            "|    1673863|             2|\n",
            "|   14552054|             1|\n",
            "|   45632184|             1|\n",
            "|   14703850|             2|\n",
            "|   35768925|             3|\n",
            "|   45640757|            28|\n",
            "|   33194403|             1|\n",
            "|   39383689|             1|\n",
            "|   10645124|             1|\n",
            "|   52512151|            10|\n",
            "|   14646714|             1|\n",
            "|   38659596|             1|\n",
            "|   15634680|             1|\n",
            "|   44178035|             1|\n",
            "+-----------+--------------+\n",
            "only showing top 20 rows\n",
            "\n"
          ]
        }
      ],
      "source": [
        "customers = office_products_df.groupby(\"customer_id\").agg({\"customer_id\": \"count\"}).withColumnRenamed('count(customer_id)','customer_count')\n",
        "customers.show()"
      ]
    },
    {
      "cell_type": "code",
      "execution_count": 26,
      "metadata": {
        "colab": {
          "base_uri": "https://localhost:8080/"
        },
        "id": "l5ZFwzP5Ela2",
        "outputId": "61bd8eca-6788-48b6-b5dd-0911037fbd04"
      },
      "outputs": [
        {
          "name": "stdout",
          "output_type": "stream",
          "text": [
            "+--------------+-----------+-------------+-----------+----+\n",
            "|     review_id|star_rating|helpful_votes|total_votes|vine|\n",
            "+--------------+-----------+-------------+-----------+----+\n",
            "|R18RVCKGH1SSI9|          5|            0|          0|   N|\n",
            "|R3L4L6LW1PUOFY|          5|            0|          1|   N|\n",
            "|R2J8AWXWTDX2TF|          5|            0|          0|   N|\n",
            "|R1PR37BR7G3M6A|          1|            2|          3|   N|\n",
            "|R3BDDDZMZBZDPU|          4|            0|          0|   N|\n",
            "| R8T6MO75ND212|          5|            0|          0|   N|\n",
            "|R2YWMQT2V11XYZ|          5|            0|          0|   N|\n",
            "|R1V2HYL6OI9V39|          5|            6|          6|   N|\n",
            "|R3BLQBKUNXGFS4|          5|            0|          0|   N|\n",
            "|R17MOWJCAR9Y8Q|          5|            0|          0|   N|\n",
            "|R11EPG1GHOXMGB|          4|            0|          0|   N|\n",
            "|R2797NKTEX5THN|          5|            0|          0|   N|\n",
            "|R2RUTMJS50E4WF|          5|            0|          0|   N|\n",
            "|R1FZYL1HX7O4RM|          1|            0|          0|   N|\n",
            "|R22ENT0KU5CHPX|          5|            0|          0|   N|\n",
            "|R2E5M7FWJC9JLE|          5|            0|          0|   N|\n",
            "|R31BNW3O2Q5J3E|          5|            0|          0|   N|\n",
            "|R1JMQF1OOMNF49|          5|            0|          0|   N|\n",
            "| RJH6WQDOA6CZP|          5|            0|          0|   N|\n",
            "|R2EVL0Z5JVV86X|          5|            0|          0|   N|\n",
            "+--------------+-----------+-------------+-----------+----+\n",
            "only showing top 20 rows\n",
            "\n"
          ]
        }
      ],
      "source": [
        "vine_table = office_products_df[[\"review_id\", \"star_rating\", \"helpful_votes\", \"total_votes\", \"vine\"]]\n",
        "\n",
        "# Convert string to integer\n",
        "from pyspark.sql.types import IntegerType\n",
        "vine_table = vine_table.withColumn(\"star_rating\", vine_table[\"star_rating\"].cast(IntegerType()))\n",
        "\n",
        "vine_table.show()"
      ]
    },
    {
      "cell_type": "code",
      "execution_count": 18,
      "metadata": {
        "id": "miu2m_lbFmI9"
      },
      "outputs": [],
      "source": [
        "# Load the DataFrames that correspond to tables into an RDS instance\n",
        "mode = \"append\"\n",
        "jdbc_url = \"jdbc:postgresql://<amazon-endpoint-address>:5432/<amazon-db-name>\"\n",
        "config = {\n",
        "    \"user\" : \"username\", \n",
        "    \"password\" : \"password\",\n",
        "    \"driver\" : \"org.postgresql.Driver\"\n",
        "}"
      ]
    },
    {
      "cell_type": "code",
      "execution_count": null,
      "metadata": {
        "id": "NExlsdzgHN_p"
      },
      "outputs": [],
      "source": [
        "review_id_table.write.jdbc(url=jdbc_url, table='review_id_table', mode=mode, properties=config)"
      ]
    },
    {
      "cell_type": "code",
      "execution_count": 19,
      "metadata": {
        "id": "vaOR8VtQ7LmM"
      },
      "outputs": [],
      "source": [
        "products.write.jdbc(url=jdbc_url, table='products', mode=mode, properties=config)"
      ]
    },
    {
      "cell_type": "code",
      "execution_count": null,
      "metadata": {
        "id": "T5046CZL7M94"
      },
      "outputs": [],
      "source": [
        "customers.write.jdbc(url=jdbc_url, table='customers', mode=mode, properties=config)"
      ]
    },
    {
      "cell_type": "code",
      "execution_count": 28,
      "metadata": {
        "id": "9KstNVAc7OKG"
      },
      "outputs": [],
      "source": [
        "vine_table.write.jdbc(url=jdbc_url, table='vine_table', mode=mode, properties=config)"
      ]
    }
  ],
  "metadata": {
    "colab": {
      "collapsed_sections": [],
      "name": "office_products_etl.ipynb",
      "provenance": []
    },
    "kernelspec": {
      "display_name": "Python 3",
      "name": "python3"
    },
    "language_info": {
      "name": "python"
    }
  },
  "nbformat": 4,
  "nbformat_minor": 0
}
